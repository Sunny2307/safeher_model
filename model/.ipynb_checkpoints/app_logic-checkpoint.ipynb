{
 "cells": [
  {
   "cell_type": "code",
   "execution_count": 51,
   "id": "d83ad7d0-3556-4f2c-a856-416c79a5e79a",
   "metadata": {},
   "outputs": [],
   "source": [
    "import pandas as pd\n",
    "import random\n",
    "import numpy as np\n",
    "from sklearn.ensemble import RandomForestClassifier\n",
    "from sklearn.model_selection import train_test_split\n",
    "from sklearn.metrics import classification_report"
   ]
  },
  {
   "cell_type": "code",
   "execution_count": 52,
   "id": "30677922-6805-470a-89a7-999221c5e939",
   "metadata": {},
   "outputs": [],
   "source": [
    "# Load universal datasets\n",
    "emotional = pd.read_csv('emotional.csv')\n",
    "safety = pd.read_csv('safety.csv')\n",
    "confidence = pd.read_csv('confidence.csv')\n",
    "social_support = pd.read_csv('social_support.csv')\n",
    "time_management = pd.read_csv('time_management.csv')\n",
    "\n",
    "# Load role-specific datasets\n",
    "student = pd.read_csv('student.csv')\n",
    "working_women = pd.read_csv('working_women.csv')\n",
    "housewife = pd.read_csv('housewife.csv')\n",
    "\n",
    "# Add role column for role-specific datasets\n",
    "student['role'] = 'student'\n",
    "working_women['role'] = 'working_women'\n",
    "housewife['role'] = 'housewife'\n",
    "\n",
    "# Combine role-specific into one dataset\n",
    "role_data = pd.concat([student, working_women, housewife], ignore_index=True)\n",
    "\n",
    "# Check structure\n",
    "#emotional.head()\n",
    "#student.sample(10)\n"
   ]
  },
  {
   "cell_type": "code",
   "execution_count": 53,
   "id": "a0365579-b292-4b35-a7d2-9a03665c5284",
   "metadata": {},
   "outputs": [],
   "source": [
    "def get_questions(role):\n",
    "    index = get_current_index(role)\n",
    "\n",
    "    emotional_df = pd.read_csv(\"datasets/emotional.csv\")\n",
    "    safety_df = pd.read_csv(\"datasets/safety.csv\")\n",
    "    confidence_df = pd.read_csv(\"datasets/confidence.csv\")\n",
    "    social_df = pd.read_csv(\"datasets/social_support.csv\")\n",
    "    time_df = pd.read_csv(\"datasets/time_management.csv\")\n",
    "\n",
    "    if role == \"student\":\n",
    "        role_df = pd.read_csv(\"datasets/student.csv\")\n",
    "    elif role == \"working_women\":\n",
    "        role_df = pd.read_csv(\"datasets/working_women.csv\")\n",
    "    else:\n",
    "        role_df = pd.read_csv(\"datasets/housewife.csv\")\n",
    "\n",
    "    # Select specific rows for today\n",
    "    universal_questions = pd.concat([\n",
    "        emotional_df.iloc[[index]],\n",
    "        safety_df.iloc[[index]],\n",
    "        confidence_df.iloc[[index]],\n",
    "        social_df.iloc[[index]],\n",
    "        time_df.iloc[[index]]\n",
    "    ])\n",
    "\n",
    "    role_specific_questions = role_df.iloc[index * 3 : index * 3 + 3]\n",
    "\n",
    "    combined = pd.concat([universal_questions, role_specific_questions]).reset_index(drop=True)\n",
    "    return combined, index\n"
   ]
  },
  {
   "cell_type": "code",
   "execution_count": 54,
   "id": "9fb2a55d-23e7-45d4-a8ed-2550aa27a4d1",
   "metadata": {},
   "outputs": [],
   "source": [
    "def calculate_stress_level(score):\n",
    "    if score <= 16:\n",
    "        return \"low\"\n",
    "    elif score <= 27:\n",
    "        return \"medium\"\n",
    "    else:\n",
    "        return \"high\"\n"
   ]
  },
  {
   "cell_type": "code",
   "execution_count": 55,
   "id": "1d9d92db-56fb-44fa-b1cb-28dba7baf956",
   "metadata": {},
   "outputs": [],
   "source": [
    "def predict_with_user_input():\n",
    "    print(\"\\nWelcome to the Stress Level Predictor!\")\n",
    "    role = input(\"Enter your role (student, working_women, housewife): \").strip().lower()\n",
    "\n",
    "    if role not in ['student', 'working_women', 'housewife']:\n",
    "        print(\"Invalid role. Please enter a valid role.\")\n",
    "        return\n",
    "\n",
    "    print(f\"\\nFetching your personalized questions for role: {role}\")\n",
    "    questions = get_questions(role)\n",
    "\n",
    "    answers = []\n",
    "    print(\"\\nPlease answer the following 8 questions by choosing a number 1-5, where:\")\n",
    "    print(\"1 = Most Positive, 5 = Most Negative\\n\")\n",
    "\n",
    "    for i, row in questions.iterrows():\n",
    "        print(f\"\\nQ{i+1}: {row['Question']}\")\n",
    "        print(\"Your options:\")\n",
    "        print(f\"  1. {row['Option1']}\")\n",
    "        print(f\"  2. {row['Option2']}\")\n",
    "        print(f\"  3. {row['Option3']}\")\n",
    "        print(f\"  4. {row['Option4']}\")\n",
    "        print(f\"  5. {row['Option5']}\")\n",
    "\n",
    "        while True:\n",
    "            try:\n",
    "                response = int(input(\"Your answer (1-5): \"))\n",
    "                if response in [1, 2, 3, 4, 5]:\n",
    "                    answers.append(response)\n",
    "                    break\n",
    "                else:\n",
    "                    print(\"Please enter a number between 1 and 5.\")\n",
    "            except ValueError:\n",
    "                print(\"Invalid input. Please enter a number between 1 and 5.\")\n",
    "\n",
    "    # Score-based prediction\n",
    "    total_score = sum(answers)\n",
    "    stress_level = calculate_stress_level(total_score)\n",
    "\n",
    "    print(\"\\n========== RESULT ==========\")\n",
    "    print(f\"Your total score: {total_score}/40\")\n",
    "    print(f\"Predicted Stress Level: {stress_level.upper()}\")\n",
    "    print(\"============================\")\n"
   ]
  },
  {
   "cell_type": "code",
   "execution_count": 56,
   "id": "0ada9a1d-8af3-47ec-8774-ab62f8318a00",
   "metadata": {},
   "outputs": [
    {
     "name": "stdout",
     "output_type": "stream",
     "text": [
      "\n",
      "Welcome to the Stress Level Predictor!\n"
     ]
    },
    {
     "name": "stdin",
     "output_type": "stream",
     "text": [
      "Enter your role (student, working_women, housewife):  student\n"
     ]
    },
    {
     "name": "stdout",
     "output_type": "stream",
     "text": [
      "\n",
      "Fetching your personalized questions for role: student\n",
      "\n",
      "Please answer the following 8 questions by choosing a number 1-5, where:\n",
      "1 = Most Positive, 5 = Most Negative\n",
      "\n",
      "\n",
      "Q1: Did you feel emotionally recharged at any point today?\n",
      "Your options:\n",
      "  1. Absolutely\n",
      "  2. Mostly\n",
      "  3. Somewhat\n",
      "  4. Not really\n",
      "  5. Not at all\n"
     ]
    },
    {
     "name": "stdin",
     "output_type": "stream",
     "text": [
      "Your answer (1-5):  1\n"
     ]
    },
    {
     "name": "stdout",
     "output_type": "stream",
     "text": [
      "\n",
      "Q2: How aware were you of your surroundings today?\n",
      "Your options:\n",
      "  1. Very aware\n",
      "  2. Mostly aware\n",
      "  3. Moderately\n",
      "  4. Distracted\n",
      "  5. Not aware\n"
     ]
    },
    {
     "name": "stdin",
     "output_type": "stream",
     "text": [
      "Your answer (1-5):  2\n"
     ]
    },
    {
     "name": "stdout",
     "output_type": "stream",
     "text": [
      "\n",
      "Q3: Did you practice self-compassion today?\n",
      "Your options:\n",
      "  1. Yes, intentionally\n",
      "  2. Mostly\n",
      "  3. Somewhat\n",
      "  4. Rarely\n",
      "  5. Not at all\n"
     ]
    },
    {
     "name": "stdin",
     "output_type": "stream",
     "text": [
      "Your answer (1-5):  3\n"
     ]
    },
    {
     "name": "stdout",
     "output_type": "stream",
     "text": [
      "\n",
      "Q4: Did you reach out to someone just to talk today?\n",
      "Your options:\n",
      "  1. Yes, to many\n",
      "  2. Yes, to one\n",
      "  3. Thought about it\n",
      "  4. No\n",
      "  5. Avoided\n"
     ]
    },
    {
     "name": "stdin",
     "output_type": "stream",
     "text": [
      "Your answer (1-5):  1\n"
     ]
    },
    {
     "name": "stdout",
     "output_type": "stream",
     "text": [
      "\n",
      "Q5: What prevented you from completing all tasks?\n",
      "Your options:\n",
      "  1. Nothing\n",
      "  2. Minor delays\n",
      "  3. Unexpected work\n",
      "  4. Lack of focus\n",
      "  5. Overcommitment\n"
     ]
    },
    {
     "name": "stdin",
     "output_type": "stream",
     "text": [
      "Your answer (1-5):  2\n"
     ]
    },
    {
     "name": "stdout",
     "output_type": "stream",
     "text": [
      "\n",
      "Q6: How supported did you feel when discussing your university selection with family this week?\n",
      "Your options:\n",
      "  1. Very supportive\n",
      "  2. Supportive\n",
      "  3. Neutral\n",
      "  4. Pressured\n",
      "  5. Extremely pressured\n"
     ]
    },
    {
     "name": "stdin",
     "output_type": "stream",
     "text": [
      "Your answer (1-5):  3\n"
     ]
    },
    {
     "name": "stdout",
     "output_type": "stream",
     "text": [
      "\n",
      "Q7: How much pressure did your family place on your future aspirations progress?\n",
      "Your options:\n",
      "  1. Very supportive\n",
      "  2. Supportive\n",
      "  3. Neutral\n",
      "  4. Pressured\n",
      "  5. Extremely pressured\n"
     ]
    },
    {
     "name": "stdin",
     "output_type": "stream",
     "text": [
      "Your answer (1-5):  1\n"
     ]
    },
    {
     "name": "stdout",
     "output_type": "stream",
     "text": [
      "\n",
      "Q8: Did you postpone any research work because of stress today?\n",
      "Your options:\n",
      "  1. Not at all\n",
      "  2. Rarely\n",
      "  3. Sometimes\n",
      "  4. Often\n",
      "  5. Constantly\n"
     ]
    },
    {
     "name": "stdin",
     "output_type": "stream",
     "text": [
      "Your answer (1-5):  2\n"
     ]
    },
    {
     "name": "stdout",
     "output_type": "stream",
     "text": [
      "\n",
      "========== RESULT ==========\n",
      "Your total score: 15/40\n",
      "Predicted Stress Level: LOW\n",
      "============================\n"
     ]
    }
   ],
   "source": [
    "# ========== Run It ==========\n",
    "if __name__ == \"__main__\":\n",
    "    predict_with_user_input()\n",
    "    # After displaying result\n",
    "    update_index(role)\n"
   ]
  },
  {
   "cell_type": "code",
   "execution_count": 70,
   "id": "a5d28caa-5e0f-4957-848d-e38d97e74707",
   "metadata": {},
   "outputs": [
    {
     "name": "stdin",
     "output_type": "stream",
     "text": [
      "Enter role (student, working_women, housewife):  student\n"
     ]
    },
    {
     "name": "stdout",
     "output_type": "stream",
     "text": [
      "9\n",
      "\n",
      "Today's Quiz for Student:\n",
      "\n",
      "Q1: How capable did you feel managing emotional challenges today?\n",
      "  1. Fully capable\n",
      "  2. Mostly capable\n",
      "  3. Somewhat capable\n",
      "  4. Struggled\n",
      "  5. Overwhelmed\n"
     ]
    },
    {
     "name": "stdin",
     "output_type": "stream",
     "text": [
      "Your answer for Q1 (1-5):  1\n"
     ]
    },
    {
     "name": "stdout",
     "output_type": "stream",
     "text": [
      "\n",
      "Q2: Was there any moment today where you felt the need to escape or hide?\n",
      "  1. Not at all\n",
      "  2. Briefly\n",
      "  3. Once\n",
      "  4. A few times\n",
      "  5. Repeatedly\n"
     ]
    },
    {
     "name": "stdin",
     "output_type": "stream",
     "text": [
      "Your answer for Q2 (1-5):  2\n"
     ]
    },
    {
     "name": "stdout",
     "output_type": "stream",
     "text": [
      "\n",
      "Q3: Did you believe your efforts were valuable today?\n",
      "  1. Absolutely\n",
      "  2. Mostly\n",
      "  3. Somewhat\n",
      "  4. Questioned them\n",
      "  5. Not at all\n"
     ]
    },
    {
     "name": "stdin",
     "output_type": "stream",
     "text": [
      "Your answer for Q3 (1-5):  3\n"
     ]
    },
    {
     "name": "stdout",
     "output_type": "stream",
     "text": [
      "\n",
      "Q4: What kind of emotional support did you receive today?\n",
      "  1. Strong and steady\n",
      "  2. Helpful\n",
      "  3. Mild\n",
      "  4. Negligible\n",
      "  5. nan\n"
     ]
    },
    {
     "name": "stdin",
     "output_type": "stream",
     "text": [
      "Your answer for Q4 (1-5):  3\n"
     ]
    },
    {
     "name": "stdout",
     "output_type": "stream",
     "text": [
      "\n",
      "Q5: How clearly did you define your goals for the day?\n",
      "  1. Very clear\n",
      "  2. Clear enough\n",
      "  3. Somewhat\n",
      "  4. Unclear\n",
      "  5. Not at all\n"
     ]
    },
    {
     "name": "stdin",
     "output_type": "stream",
     "text": [
      "Your answer for Q5 (1-5):  5\n"
     ]
    },
    {
     "name": "stdout",
     "output_type": "stream",
     "text": [
      "\n",
      "Q6: Did fear of underperforming in your labs affect your mood today?\n",
      "  1. Not at all\n",
      "  2. Rarely\n",
      "  3. Sometimes\n",
      "  4. Often\n",
      "  5. Constantly\n"
     ]
    },
    {
     "name": "stdin",
     "output_type": "stream",
     "text": [
      "Your answer for Q6 (1-5):  5\n"
     ]
    },
    {
     "name": "stdout",
     "output_type": "stream",
     "text": [
      "\n",
      "Q7: How often did the topic of social media updates dominate group conversations today?\n",
      "  1. Very positive\n",
      "  2. Positive\n",
      "  3. Neutral\n",
      "  4. Negative\n",
      "  5. Very negative\n"
     ]
    },
    {
     "name": "stdin",
     "output_type": "stream",
     "text": [
      "Your answer for Q7 (1-5):  5\n"
     ]
    },
    {
     "name": "stdout",
     "output_type": "stream",
     "text": [
      "\n",
      "Q8: What emotions arose when your parents commented on your career plans recently?\n",
      "  1. Very supportive\n",
      "  2. Supportive\n",
      "  3. Neutral\n",
      "  4. Pressured\n",
      "  5. Extremely pressured\n"
     ]
    },
    {
     "name": "stdin",
     "output_type": "stream",
     "text": [
      "Your answer for Q8 (1-5):  5\n"
     ]
    },
    {
     "name": "stdout",
     "output_type": "stream",
     "text": [
      "\n",
      "Your Score: 29 — Stress Level: HIGH\n",
      "\n",
      "🧠 Here's what we observed:\n",
      "\n",
      "⚠️ **Time Management**\n",
      "You might be having trouble keeping up with tasks or deadlines.\n",
      "💡 _Tip_: Try breaking large tasks into smaller ones and prioritize key actions.\n",
      "\n",
      "⚠️ **Academic Pressure**\n",
      "Heavy academic demands or fear of underperforming might be stressing you.\n",
      "💡 _Tip_: Try time-blocking and asking for academic help. Progress over perfection.\n",
      "\n",
      "⚠️ **Parental Expectations**\n",
      "You may feel pressure to meet expectations set by your family or culture.\n",
      "💡 _Tip_: Open communication can help manage expectations. Don't lose sight of your own dreams.\n",
      "\n",
      "⚠️ **Peer Stress / Social Comparison**\n",
      "You might be comparing yourself to peers or feeling pressure to meet external expectations.\n",
      "💡 _Tip_: Stay grounded in your goals. Everyone's path is unique and valid.\n",
      "\n"
     ]
    }
   ],
   "source": [
    "import pandas as pd\n",
    "import os\n",
    "import json\n",
    "import re\n",
    "#----------Mapping----------------------\n",
    "CATEGORY_FEEDBACK = {\n",
    "    \"emotional\": {\n",
    "        \"title\": \"Emotional Well-being\",\n",
    "        \"explanation\": \"You may be feeling overwhelmed, anxious, or emotionally drained.\",\n",
    "        \"tip\": \"Try journaling or talking to someone you trust about your feelings.\"\n",
    "    },\n",
    "    \"safety\": {\n",
    "        \"title\": \"Sense of Safety\",\n",
    "        \"explanation\": \"You may be experiencing discomfort or fear in your current environment.\",\n",
    "        \"tip\": \"Consider setting boundaries or discussing concerns with someone in authority.\"\n",
    "    },\n",
    "    \"confidence\": {\n",
    "        \"title\": \"Self-Confidence\",\n",
    "        \"explanation\": \"You may be struggling with self-doubt or low self-esteem.\",\n",
    "        \"tip\": \"Celebrate small wins and avoid harsh self-judgment.\"\n",
    "    },\n",
    "    \"social_support\": {\n",
    "        \"title\": \"Social Support\",\n",
    "        \"explanation\": \"You might be feeling isolated or lacking emotional connection.\",\n",
    "        \"tip\": \"Reach out to friends, family, or communities you trust.\"\n",
    "    },\n",
    "    \"time_management\": {\n",
    "        \"title\": \"Time Management\",\n",
    "        \"explanation\": \"You might be having trouble keeping up with tasks or deadlines.\",\n",
    "        \"tip\": \"Try breaking large tasks into smaller ones and prioritize key actions.\"\n",
    "    },\n",
    "    \"work_life_balance\": {\n",
    "        \"title\": \"Work-Life Balance\",\n",
    "        \"explanation\": \"You may be feeling stretched between your professional and personal responsibilities.\",\n",
    "        \"tip\": \"Establish boundaries and give yourself permission to rest and recharge.\"\n",
    "    },\n",
    "    \"career_growth_anxiety\": {\n",
    "        \"title\": \"Career Growth Anxiety\",\n",
    "        \"explanation\": \"Uncertainty or pressure about your career progress might be affecting your mental clarity.\",\n",
    "        \"tip\": \"Focus on skills and progress, not just outcomes. A clear plan and small wins help.\"\n",
    "    },\n",
    "    \"job_workload\": {\n",
    "        \"title\": \"Job Workload & Deadlines\",\n",
    "        \"explanation\": \"High work volume and time pressure might be leading to overwhelm.\",\n",
    "        \"tip\": \"Break large tasks into smaller ones, delegate if possible, and pace your energy.\"\n",
    "    },\n",
    "    \"peer_pressure\": {\n",
    "        \"title\": \"Peer Stress / Social Comparison\",\n",
    "        \"explanation\": \"You might be comparing yourself to peers or feeling pressure to meet external expectations.\",\n",
    "        \"tip\": \"Stay grounded in your goals. Everyone's path is unique and valid.\"\n",
    "    },\n",
    "    \"parental_expectations\": {\n",
    "        \"title\": \"Parental Expectations\",\n",
    "        \"explanation\": \"You may feel pressure to meet expectations set by your family or culture.\",\n",
    "        \"tip\": \"Open communication can help manage expectations. Don't lose sight of your own dreams.\"\n",
    "    },\n",
    "    \"academic_pressure\": {\n",
    "        \"title\": \"Academic Pressure\",\n",
    "        \"explanation\": \"Heavy academic demands or fear of underperforming might be stressing you.\",\n",
    "        \"tip\": \"Try time-blocking and asking for academic help. Progress over perfection.\"\n",
    "    },\n",
    "    \"domestic_workload\": {\n",
    "        \"title\": \"Domestic Workload\",\n",
    "        \"explanation\": \"Household responsibilities might be creating fatigue or lack of personal time.\",\n",
    "        \"tip\": \"Ask for help, set routines, and carve out time for yourself without guilt.\"\n",
    "    },\n",
    "    \"self_worth\": {\n",
    "        \"title\": \"Recognition & Self-Worth\",\n",
    "        \"explanation\": \"You might feel underappreciated or doubt your value.\",\n",
    "        \"tip\": \"Acknowledge your contributions. Your worth is not defined by external approval.\"\n",
    "    },\n",
    "    \"financial_dependency\": {\n",
    "        \"title\": \"Financial Dependency\",\n",
    "        \"explanation\": \"You may feel a lack of financial control or independence.\",\n",
    "        \"tip\": \"Small financial steps and planning can improve both autonomy and peace of mind.\"\n",
    "    }\n",
    "}\n",
    "\n",
    "# ---------- Progress tracking ----------\n",
    "PROGRESS_FILE = \"progress.json\"\n",
    "\n",
    "def load_progress():\n",
    "    if not os.path.exists(PROGRESS_FILE):\n",
    "        with open(PROGRESS_FILE, \"w\") as f:\n",
    "            json.dump({\"student\": 0, \"working_women\": 0, \"housewife\": 0}, f)\n",
    "    with open(PROGRESS_FILE, \"r\") as f:\n",
    "        return json.load(f)\n",
    "\n",
    "def save_progress(progress):\n",
    "    with open(PROGRESS_FILE, \"w\") as f:\n",
    "        json.dump(progress, f)\n",
    "\n",
    "def get_current_index(role):\n",
    "    progress = load_progress()\n",
    "    return progress.get(role, 0)\n",
    "\n",
    "def update_index(role):\n",
    "    progress = load_progress()\n",
    "    progress[role] = (progress.get(role, 0) + 1) % 50\n",
    "    save_progress(progress)\n",
    "\n",
    "# ---------- Stress calculation ----------\n",
    "def calculate_stress_level(score):\n",
    "    if score <= 16:\n",
    "        return \"low\"\n",
    "    elif score <= 27:\n",
    "        return \"medium\"\n",
    "    else:\n",
    "        return \"high\"\n",
    "\n",
    "# ---------- Question loading ----------\n",
    "def get_questions(role):\n",
    "    index = get_current_index(role)\n",
    "\n",
    "    emotional_df = pd.read_csv(\"datasets/emotional.csv\")\n",
    "    safety_df = pd.read_csv(\"datasets/safety.csv\")\n",
    "    confidence_df = pd.read_csv(\"datasets/confidence.csv\")\n",
    "    social_df = pd.read_csv(\"datasets/social_support.csv\")\n",
    "    time_df = pd.read_csv(\"datasets/time_management.csv\")\n",
    "\n",
    "    if role == \"student\":\n",
    "        role_df = pd.read_csv(\"datasets/student.csv\")\n",
    "    elif role == \"working_women\":\n",
    "        role_df = pd.read_csv(\"datasets/working_women.csv\")\n",
    "    else:\n",
    "        role_df = pd.read_csv(\"datasets/housewife.csv\")\n",
    "\n",
    "    universal_questions = pd.concat([\n",
    "        emotional_df.iloc[[index]],\n",
    "        safety_df.iloc[[index]],\n",
    "        confidence_df.iloc[[index]],\n",
    "        social_df.iloc[[index]],\n",
    "        time_df.iloc[[index]]\n",
    "    ])\n",
    "\n",
    "    # 3 questions from the 3 subcategories at the same index\n",
    "    q1 = role_df.iloc[index]             # from rows 0–49\n",
    "    q2 = role_df.iloc[50 + index]        # from rows 50–99\n",
    "    q3 = role_df.iloc[100 + index]       # from rows 100–149\n",
    "\n",
    "    role_questions = pd.DataFrame([q1, q2, q3])\n",
    "\n",
    "\n",
    "    questions = pd.concat([universal_questions, role_questions]).reset_index(drop=True)\n",
    "    return questions, index\n",
    "#-------------------Sub-Category stress detection -------------------------\n",
    "def analyze_subcategory_stress(questions_df, answers):\n",
    "    stressed_categories = set()\n",
    "    \n",
    "    for i, response in enumerate(answers):\n",
    "        if response >= 4:\n",
    "            raw_category = questions_df.iloc[i]['Category']\n",
    "            normalized = normalize_category_name(raw_category)\n",
    "            stressed_categories.add(normalized)\n",
    "    \n",
    "    return stressed_categories\n",
    "\n",
    "\n",
    "def normalize_category_name(raw_category):\n",
    "    cat = raw_category.lower().strip()\n",
    "    cat = re.sub(r'[^a-z0-9\\s]', '', cat)  # removes /, -, etc.\n",
    "\n",
    "    if \"emotional\" in cat:\n",
    "        return \"emotional\"\n",
    "    elif \"safety\" in cat:\n",
    "        return \"safety\"\n",
    "    elif \"confidence\" in cat:\n",
    "        return \"confidence\"\n",
    "    elif \"peer\" in cat or \"comparison\" in cat:\n",
    "        return \"peer_pressure\"\n",
    "    elif \"social\" in cat:\n",
    "        return \"social_support\"\n",
    "    elif \"time\" in cat:\n",
    "        return \"time_management\"\n",
    "    elif \"academic\" in cat:\n",
    "        return \"academic_pressure\"\n",
    "    elif \"career growth\" in cat:\n",
    "        return \"career_growth_anxiety\"\n",
    "    elif \"job workload\" in cat or \"deadlines\" in cat:\n",
    "        return \"job_workload\"\n",
    "    elif \"work-life\" in cat or \"balance\" in cat:\n",
    "        return \"work_life_balance\"\n",
    "    elif \"domestic\" in cat:\n",
    "        return \"domestic_workload\"\n",
    "    elif \"recognition\" in cat or \"self worth\" in cat:\n",
    "        return \"self_worth\"\n",
    "    elif \"parental\" in cat:\n",
    "        return \"parental_expectations\"\n",
    "    elif \"financial\" in cat:\n",
    "        return \"financial_dependency\"\n",
    "    else:\n",
    "        return cat.replace(\" \", \"_\")\n",
    "\n",
    "\n",
    "\n",
    "def generate_detailed_feedback(stressed_categories):\n",
    "    feedback = []\n",
    "    \n",
    "    for category in stressed_categories:\n",
    "        data = CATEGORY_FEEDBACK.get(category)\n",
    "        if data:\n",
    "            feedback.append(\n",
    "                f\"⚠️ **{data['title']}**\\n\"\n",
    "                f\"{data['explanation']}\\n\"\n",
    "                f\"💡 _Tip_: {data['tip']}\\n\"\n",
    "            )\n",
    "        else:\n",
    "            feedback.append(f\"⚠️ Stress detected in: {category.replace('_', ' ').title()}\")\n",
    "    \n",
    "    return \"\\n\".join(feedback)\n",
    "\n",
    "\n",
    "# ---------- Example usage for testing ----------\n",
    "if __name__ == \"__main__\":\n",
    "    role = input(\"Enter role (student, working_women, housewife): \").strip().lower()\n",
    "    questions, index = get_questions(role)\n",
    "    print(index)\n",
    "    print(f\"\\nToday's Quiz for {role.capitalize()}:\")\n",
    "    answers = []\n",
    "    for i, row in questions.iterrows():\n",
    "        print(f\"\\nQ{i+1}: {row['Question']}\")\n",
    "        for j in range(1, 6):\n",
    "            print(f\"  {j}. {row[f'Option{j}']}\")\n",
    "        while True:\n",
    "            try:\n",
    "                val = int(input(f\"Your answer for Q{i+1} (1-5): \"))\n",
    "                if val in [1,2,3,4,5]:\n",
    "                    answers.append(val)\n",
    "                    break\n",
    "            except:\n",
    "                continue\n",
    "\n",
    "    score = sum(answers)\n",
    "    level = calculate_stress_level(score)\n",
    "    stressed_categories = analyze_subcategory_stress(questions, answers)\n",
    "    detailed_feedback = generate_detailed_feedback(stressed_categories)\n",
    "    print(f\"\\nYour Score: {score} — Stress Level: {level.upper()}\")\n",
    "    if detailed_feedback:\n",
    "        print(\"\\n🧠 Here's what we observed:\\n\")\n",
    "        print(detailed_feedback)\n",
    "    else:\n",
    "        print(\"\\n🎉 Great! No concerning stress patterns detected.\")\n",
    "\n",
    "\n",
    "    update_index(role)\n"
   ]
  },
  {
   "cell_type": "code",
   "execution_count": 69,
   "id": "a8aaeebe-29a0-4205-9c58-529b2a51f866",
   "metadata": {},
   "outputs": [
    {
     "name": "stdout",
     "output_type": "stream",
     "text": [
      "social_support\n"
     ]
    }
   ],
   "source": [
    "test_raw_category = \"Peer Pressure / Social Comparison\"\n",
    "print(normalize_category_name(test_raw_category))\n"
   ]
  },
  {
   "cell_type": "code",
   "execution_count": null,
   "id": "f43054fe-61c0-4b9f-99d6-3bafd0bd8265",
   "metadata": {},
   "outputs": [],
   "source": []
  }
 ],
 "metadata": {
  "kernelspec": {
   "display_name": "Python 3 (ipykernel)",
   "language": "python",
   "name": "python3"
  },
  "language_info": {
   "codemirror_mode": {
    "name": "ipython",
    "version": 3
   },
   "file_extension": ".py",
   "mimetype": "text/x-python",
   "name": "python",
   "nbconvert_exporter": "python",
   "pygments_lexer": "ipython3",
   "version": "3.13.5"
  }
 },
 "nbformat": 4,
 "nbformat_minor": 5
}
